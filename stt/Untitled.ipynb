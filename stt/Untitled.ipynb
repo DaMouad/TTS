{
 "cells": [
  {
   "cell_type": "code",
   "execution_count": 1,
   "id": "f1605e7b",
   "metadata": {},
   "outputs": [],
   "source": [
    "import tkinter as tk\n",
    "from tkinter import filedialog\n",
    "\n",
    "def import_file():\n",
    "    root = tk.Tk()\n",
    "    filename = filedialog.askopenfilename()\n",
    "    root.destroy()\n",
    "    print(filename)\n",
    "    return filename"
   ]
  },
  {
   "cell_type": "code",
   "execution_count": 13,
   "id": "fd050715",
   "metadata": {},
   "outputs": [
    {
     "name": "stdout",
     "output_type": "stream",
     "text": [
      "C:/Users/Asus/Downloads/Music/Hello Hi Meme Sound Effect [TubeRipper.com].mp3\n",
      "hello hi\n"
     ]
    },
    {
     "ename": "PermissionError",
     "evalue": "[WinError 32] The process cannot access the file because it is being used by another process: 'C:/Users/Asus/Downloads/Music/Hello Hi Meme Sound Effect [TubeRipper.com].wav'",
     "output_type": "error",
     "traceback": [
      "\u001b[1;31m---------------------------------------------------------------------------\u001b[0m",
      "\u001b[1;31mPermissionError\u001b[0m                           Traceback (most recent call last)",
      "Input \u001b[1;32mIn [13]\u001b[0m, in \u001b[0;36m<cell line: 30>\u001b[1;34m()\u001b[0m\n\u001b[0;32m     25\u001b[0m     \u001b[38;5;28mprint\u001b[39m(text)\n\u001b[0;32m     30\u001b[0m \u001b[38;5;28;01mif\u001b[39;00m os\u001b[38;5;241m.\u001b[39mpath\u001b[38;5;241m.\u001b[39mexists(sound_file):\n\u001b[1;32m---> 31\u001b[0m     \u001b[43mos\u001b[49m\u001b[38;5;241;43m.\u001b[39;49m\u001b[43mremove\u001b[49m\u001b[43m(\u001b[49m\u001b[43msound_file\u001b[49m\u001b[43m)\u001b[49m\n",
      "\u001b[1;31mPermissionError\u001b[0m: [WinError 32] The process cannot access the file because it is being used by another process: 'C:/Users/Asus/Downloads/Music/Hello Hi Meme Sound Effect [TubeRipper.com].wav'"
     ]
    }
   ],
   "source": [
    "import fleep\n",
    "import os\n",
    "from pydub import AudioSegment\n",
    "\n",
    "import speech_recognition as sr\n",
    "r = sr.Recognizer()\n",
    "\n",
    "filename=import_file()\n",
    "with open(filename, \"rb\") as file:\n",
    "    info = fleep.get(file.read(128))\n",
    "    \n",
    "if info.extension[0] != \"wav\":\n",
    "    sound_file=os.path.splitext(src)[0]+\".wav\"\n",
    "    sound = AudioSegment.from_file(src)\n",
    "    out_ =sound.export(sound_file, format=\"wav\")\n",
    "    out_.close()\n",
    "    \n",
    "    \n",
    "with sr.AudioFile(sound_file) as source:\n",
    "    # listen for the data (load audio to memory)\n",
    "    audio_data = r.record(source)\n",
    "    # recognize (convert from speech to text)\n",
    "    text = r.recognize_google(audio_data)\n",
    "    print(text)\n",
    "    \n",
    "if os.path.exists(sound_file):\n",
    "    os.remove(sound_file)    "
   ]
  },
  {
   "cell_type": "code",
   "execution_count": null,
   "id": "e35cdd3f",
   "metadata": {},
   "outputs": [],
   "source": [
    "from_file"
   ]
  },
  {
   "cell_type": "code",
   "execution_count": 10,
   "id": "7b2ebe01",
   "metadata": {},
   "outputs": [
    {
     "name": "stdout",
     "output_type": "stream",
     "text": [
      "C:/Users/Asus/Downloads/Music/Hello Hi Meme Sound Effect [TubeRipper.com].mp3\n"
     ]
    },
    {
     "data": {
      "text/plain": [
       "<_io.BufferedRandom name='C:/Users/Asus/Downloads/Music/Hello Hi Meme Sound Effect [TubeRipper.com].wav'>"
      ]
     },
     "execution_count": 10,
     "metadata": {},
     "output_type": "execute_result"
    }
   ],
   "source": []
  },
  {
   "cell_type": "code",
   "execution_count": 6,
   "id": "65fab2e3",
   "metadata": {},
   "outputs": [
    {
     "name": "stdout",
     "output_type": "stream",
     "text": [
      "C:/Users/Asus/Downloads/Music/Hello Hi Meme Sound Effect [TubeRipper.com].wav\n"
     ]
    }
   ],
   "source": [
    "sound_file=import_file()"
   ]
  },
  {
   "cell_type": "code",
   "execution_count": 11,
   "id": "c9842129",
   "metadata": {},
   "outputs": [
    {
     "ename": "PermissionError",
     "evalue": "[WinError 32] The process cannot access the file because it is being used by another process: 'C:/Users/Asus/Downloads/Music/Hello Hi Meme Sound Effect [TubeRipper.com].wav'",
     "output_type": "error",
     "traceback": [
      "\u001b[1;31m---------------------------------------------------------------------------\u001b[0m",
      "\u001b[1;31mPermissionError\u001b[0m                           Traceback (most recent call last)",
      "Input \u001b[1;32mIn [11]\u001b[0m, in \u001b[0;36m<cell line: 2>\u001b[1;34m()\u001b[0m\n\u001b[0;32m      1\u001b[0m \u001b[38;5;28;01mimport\u001b[39;00m \u001b[38;5;21;01mos\u001b[39;00m \n\u001b[0;32m      2\u001b[0m \u001b[38;5;28;01mif\u001b[39;00m os\u001b[38;5;241m.\u001b[39mpath\u001b[38;5;241m.\u001b[39mexists(sound_file):\n\u001b[1;32m----> 3\u001b[0m     \u001b[43mos\u001b[49m\u001b[38;5;241;43m.\u001b[39;49m\u001b[43mremove\u001b[49m\u001b[43m(\u001b[49m\u001b[43msound_file\u001b[49m\u001b[43m)\u001b[49m\n",
      "\u001b[1;31mPermissionError\u001b[0m: [WinError 32] The process cannot access the file because it is being used by another process: 'C:/Users/Asus/Downloads/Music/Hello Hi Meme Sound Effect [TubeRipper.com].wav'"
     ]
    }
   ],
   "source": [
    "import os \n"
   ]
  },
  {
   "cell_type": "code",
   "execution_count": 11,
   "id": "2ee00075",
   "metadata": {},
   "outputs": [],
   "source": []
  },
  {
   "cell_type": "markdown",
   "id": "1d26be66",
   "metadata": {},
   "source": [
    "-----------------"
   ]
  },
  {
   "cell_type": "code",
   "execution_count": 16,
   "id": "50c01120",
   "metadata": {},
   "outputs": [],
   "source": [
    "import speech_recognition as sr \n",
    "import os \n",
    "from pydub import AudioSegment\n",
    "from pydub.silence import split_on_silence\n",
    "\n",
    "# a function that splits the audio file into chunks\n",
    "# and applies speech recognition\n",
    "def get_large_audio_transcription(path):\n",
    "    \"\"\"\n",
    "    Splitting the large audio file into chunks\n",
    "    and apply speech recognition on each of these chunks\n",
    "    \"\"\"\n",
    "    # open the audio file using pydub\n",
    "    sound = AudioSegment.from_wav(path)  \n",
    "    # split audio sound where silence is 700 miliseconds or more and get chunks\n",
    "    chunks = split_on_silence(sound,\n",
    "        # experiment with this value for your target audio file\n",
    "        min_silence_len = 200,\n",
    "        # adjust this per requirement\n",
    "        silence_thresh = sound.dBFS-14,\n",
    "        # keep the silence for 1 second, adjustable as well\n",
    "        keep_silence=200,\n",
    "    )\n",
    "    folder_name = \"audio-chunks\"\n",
    "    # create a directory to store the audio chunks\n",
    "    if not os.path.isdir(folder_name):\n",
    "        os.mkdir(folder_name)\n",
    "    whole_text = \"\"\n",
    "    # process each chunk \n",
    "    for i, audio_chunk in enumerate(chunks, start=1):\n",
    "        # export audio chunk and save it in\n",
    "        # the `folder_name` directory.\n",
    "        chunk_filename = os.path.join(folder_name, f\"chunk{i}.wav\")\n",
    "        audio_chunk.export(chunk_filename, format=\"wav\")\n",
    "        # recognize the chunk\n",
    "        with sr.AudioFile(chunk_filename) as source:\n",
    "            audio_listened = r.record(source)\n",
    "            # try converting it to text\n",
    "            try:\n",
    "                text = r.recognize_google(audio_listened)\n",
    "            except sr.UnknownValueError as e:\n",
    "                print(\"Error:\", str(e))\n",
    "            else:\n",
    "                text = f\"{text.capitalize()}. \"\n",
    "                print(chunk_filename, \":\", text)\n",
    "                whole_text += text\n",
    "    # return the text for all chunks detected\n",
    "    return whole_text"
   ]
  },
  {
   "cell_type": "code",
   "execution_count": 30,
   "id": "49c8ef1a",
   "metadata": {
    "scrolled": false
   },
   "outputs": [],
   "source": [
    "import fleep\n",
    "import os\n",
    "from pydub import AudioSegment\n",
    "\n",
    "import speech_recognition as sr\n",
    "r = sr.Recognizer()\n",
    "\n",
    "def transcript():\n",
    "    filename=import_file()\n",
    "\n",
    "    if os.path.splitext(filename)[1] != \"wav\":\n",
    "        sound_file=os.path.splitext(filename)[0]+\".wav\"\n",
    "        sound = AudioSegment.from_file(filename)\n",
    "        out_ =sound.export(sound_file, format=\"wav\")\n",
    "        out_.close() \n",
    "        \n",
    "    output=get_large_audio_transcription(sound_file)\n",
    "\n",
    "    if os.path.splitext(filename)[1] != \"wav\":\n",
    "        if os.path.exists(sound_file):\n",
    "            os.remove(sound_file) \n",
    "    return output"
   ]
  },
  {
   "cell_type": "code",
   "execution_count": 29,
   "id": "6642a21d",
   "metadata": {},
   "outputs": [],
   "source": [
    "  filename = filedialog.askopenfilename(filetypes=[(\"audio\",\"*.wav *.ogg *.mp3 *.aac *.flac *.alac *.AIFF\")],title = 'Choose a File')"
   ]
  },
  {
   "cell_type": "code",
   "execution_count": null,
   "id": "5e5f5606",
   "metadata": {},
   "outputs": [],
   "source": []
  }
 ],
 "metadata": {
  "kernelspec": {
   "display_name": "Python 3 (ipykernel)",
   "language": "python",
   "name": "python3"
  },
  "language_info": {
   "codemirror_mode": {
    "name": "ipython",
    "version": 3
   },
   "file_extension": ".py",
   "mimetype": "text/x-python",
   "name": "python",
   "nbconvert_exporter": "python",
   "pygments_lexer": "ipython3",
   "version": "3.9.12"
  }
 },
 "nbformat": 4,
 "nbformat_minor": 5
}
